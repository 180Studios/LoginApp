{
 "cells": [
  {
   "cell_type": "code",
   "execution_count": 2,
   "metadata": {},
   "outputs": [
    {
     "data": {
      "text/html": [
       "<script>requirejs.config({paths: { 'plotly': ['https://cdn.plot.ly/plotly-latest.min']},});if(!window.Plotly) {{require(['plotly'],function(plotly) {window.Plotly=plotly;});}}</script>"
      ],
      "text/vnd.plotly.v1+html": [
       "<script>requirejs.config({paths: { 'plotly': ['https://cdn.plot.ly/plotly-latest.min']},});if(!window.Plotly) {{require(['plotly'],function(plotly) {window.Plotly=plotly;});}}</script>"
      ]
     },
     "metadata": {},
     "output_type": "display_data"
    },
    {
     "data": {
      "application/vnd.plotly.v1+json": {
       "data": [
        {
         "name": "Punchcard Members",
         "type": "bar",
         "uid": "e6d471be-cc12-11e8-a208-843835419da6",
         "x": [
          "Monday",
          "Tuesday",
          "Wednesday",
          "Thursday",
          "Friday",
          "Saturday",
          "Sunday"
         ],
         "y": [
          1,
          10,
          20,
          9,
          9,
          4,
          10,
          0
         ]
        },
        {
         "name": "Monthly Members",
         "type": "bar",
         "uid": "e6d4e93c-cc12-11e8-a208-843835419da6",
         "x": [
          "Monday",
          "Tuesday",
          "Wednesday",
          "Thursday",
          "Friday",
          "Saturday",
          "Sunday"
         ],
         "y": [
          5,
          13,
          8,
          19,
          4,
          4,
          3,
          0
         ]
        },
        {
         "name": "Annual Members",
         "type": "bar",
         "uid": "e6d4ecde-cc12-11e8-a208-843835419da6",
         "x": [
          "Monday",
          "Tuesday",
          "Wednesday",
          "Thursday",
          "Friday",
          "Saturday",
          "Sunday"
         ],
         "y": [
          2,
          0,
          0,
          0,
          0,
          0,
          4,
          0
         ]
        },
        {
         "name": "Student Members",
         "type": "bar",
         "uid": "e6d4ef86-cc12-11e8-a208-843835419da6",
         "x": [
          "Monday",
          "Tuesday",
          "Wednesday",
          "Thursday",
          "Friday",
          "Saturday",
          "Sunday"
         ],
         "y": [
          2,
          3,
          4,
          2,
          0,
          0,
          7,
          0
         ]
        },
        {
         "name": "Volunteer Members",
         "type": "bar",
         "uid": "e6d4f1ac-cc12-11e8-a208-843835419da6",
         "x": [
          "Monday",
          "Tuesday",
          "Wednesday",
          "Thursday",
          "Friday",
          "Saturday",
          "Sunday"
         ],
         "y": [
          1,
          2,
          0,
          0,
          1,
          2,
          1,
          0
         ]
        },
        {
         "name": "Organization Members",
         "type": "bar",
         "uid": "e6d4f3a0-cc12-11e8-a208-843835419da6",
         "x": [
          "Monday",
          "Tuesday",
          "Wednesday",
          "Thursday",
          "Friday",
          "Saturday",
          "Sunday"
         ],
         "y": [
          0,
          0,
          0,
          0,
          0,
          0,
          0,
          0
         ]
        }
       ],
       "layout": {
        "barmode": "stack"
       }
      },
      "text/html": [
       "<div id=\"350f706f-8c33-4922-9af6-f66f20f0c0eb\" style=\"height: 525px; width: 100%;\" class=\"plotly-graph-div\"></div><script type=\"text/javascript\">require([\"plotly\"], function(Plotly) { window.PLOTLYENV=window.PLOTLYENV || {};window.PLOTLYENV.BASE_URL=\"https://plot.ly\";\n",
       "        Plotly.plot(\n",
       "            '350f706f-8c33-4922-9af6-f66f20f0c0eb',\n",
       "            [{\"name\": \"Punchcard Members\", \"x\": [\"Monday\", \"Tuesday\", \"Wednesday\", \"Thursday\", \"Friday\", \"Saturday\", \"Sunday\"], \"y\": [1, 10, 20, 9, 9, 4, 10, 0], \"type\": \"bar\", \"uid\": \"e6d471be-cc12-11e8-a208-843835419da6\"}, {\"name\": \"Monthly Members\", \"x\": [\"Monday\", \"Tuesday\", \"Wednesday\", \"Thursday\", \"Friday\", \"Saturday\", \"Sunday\"], \"y\": [5, 13, 8, 19, 4, 4, 3, 0], \"type\": \"bar\", \"uid\": \"e6d4e93c-cc12-11e8-a208-843835419da6\"}, {\"name\": \"Annual Members\", \"x\": [\"Monday\", \"Tuesday\", \"Wednesday\", \"Thursday\", \"Friday\", \"Saturday\", \"Sunday\"], \"y\": [2, 0, 0, 0, 0, 0, 4, 0], \"type\": \"bar\", \"uid\": \"e6d4ecde-cc12-11e8-a208-843835419da6\"}, {\"name\": \"Student Members\", \"x\": [\"Monday\", \"Tuesday\", \"Wednesday\", \"Thursday\", \"Friday\", \"Saturday\", \"Sunday\"], \"y\": [2, 3, 4, 2, 0, 0, 7, 0], \"type\": \"bar\", \"uid\": \"e6d4ef86-cc12-11e8-a208-843835419da6\"}, {\"name\": \"Volunteer Members\", \"x\": [\"Monday\", \"Tuesday\", \"Wednesday\", \"Thursday\", \"Friday\", \"Saturday\", \"Sunday\"], \"y\": [1, 2, 0, 0, 1, 2, 1, 0], \"type\": \"bar\", \"uid\": \"e6d4f1ac-cc12-11e8-a208-843835419da6\"}, {\"name\": \"Organization Members\", \"x\": [\"Monday\", \"Tuesday\", \"Wednesday\", \"Thursday\", \"Friday\", \"Saturday\", \"Sunday\"], \"y\": [0, 0, 0, 0, 0, 0, 0, 0], \"type\": \"bar\", \"uid\": \"e6d4f3a0-cc12-11e8-a208-843835419da6\"}],\n",
       "            {\"barmode\": \"stack\"},\n",
       "            {\"showLink\": true, \"linkText\": \"Export to plot.ly\"}\n",
       "        ).then(function () {return Plotly.addFrames('350f706f-8c33-4922-9af6-f66f20f0c0eb',{});}).then(function(){Plotly.animate('350f706f-8c33-4922-9af6-f66f20f0c0eb');})\n",
       "        });</script>"
      ],
      "text/vnd.plotly.v1+html": [
       "<div id=\"350f706f-8c33-4922-9af6-f66f20f0c0eb\" style=\"height: 525px; width: 100%;\" class=\"plotly-graph-div\"></div><script type=\"text/javascript\">require([\"plotly\"], function(Plotly) { window.PLOTLYENV=window.PLOTLYENV || {};window.PLOTLYENV.BASE_URL=\"https://plot.ly\";\n",
       "        Plotly.plot(\n",
       "            '350f706f-8c33-4922-9af6-f66f20f0c0eb',\n",
       "            [{\"name\": \"Punchcard Members\", \"x\": [\"Monday\", \"Tuesday\", \"Wednesday\", \"Thursday\", \"Friday\", \"Saturday\", \"Sunday\"], \"y\": [1, 10, 20, 9, 9, 4, 10, 0], \"type\": \"bar\", \"uid\": \"e6d471be-cc12-11e8-a208-843835419da6\"}, {\"name\": \"Monthly Members\", \"x\": [\"Monday\", \"Tuesday\", \"Wednesday\", \"Thursday\", \"Friday\", \"Saturday\", \"Sunday\"], \"y\": [5, 13, 8, 19, 4, 4, 3, 0], \"type\": \"bar\", \"uid\": \"e6d4e93c-cc12-11e8-a208-843835419da6\"}, {\"name\": \"Annual Members\", \"x\": [\"Monday\", \"Tuesday\", \"Wednesday\", \"Thursday\", \"Friday\", \"Saturday\", \"Sunday\"], \"y\": [2, 0, 0, 0, 0, 0, 4, 0], \"type\": \"bar\", \"uid\": \"e6d4ecde-cc12-11e8-a208-843835419da6\"}, {\"name\": \"Student Members\", \"x\": [\"Monday\", \"Tuesday\", \"Wednesday\", \"Thursday\", \"Friday\", \"Saturday\", \"Sunday\"], \"y\": [2, 3, 4, 2, 0, 0, 7, 0], \"type\": \"bar\", \"uid\": \"e6d4ef86-cc12-11e8-a208-843835419da6\"}, {\"name\": \"Volunteer Members\", \"x\": [\"Monday\", \"Tuesday\", \"Wednesday\", \"Thursday\", \"Friday\", \"Saturday\", \"Sunday\"], \"y\": [1, 2, 0, 0, 1, 2, 1, 0], \"type\": \"bar\", \"uid\": \"e6d4f1ac-cc12-11e8-a208-843835419da6\"}, {\"name\": \"Organization Members\", \"x\": [\"Monday\", \"Tuesday\", \"Wednesday\", \"Thursday\", \"Friday\", \"Saturday\", \"Sunday\"], \"y\": [0, 0, 0, 0, 0, 0, 0, 0], \"type\": \"bar\", \"uid\": \"e6d4f3a0-cc12-11e8-a208-843835419da6\"}],\n",
       "            {\"barmode\": \"stack\"},\n",
       "            {\"showLink\": true, \"linkText\": \"Export to plot.ly\"}\n",
       "        ).then(function () {return Plotly.addFrames('350f706f-8c33-4922-9af6-f66f20f0c0eb',{});}).then(function(){Plotly.animate('350f706f-8c33-4922-9af6-f66f20f0c0eb');})\n",
       "        });</script>"
      ]
     },
     "metadata": {},
     "output_type": "display_data"
    }
   ],
   "source": [
    "from plotly.offline import download_plotlyjs, init_notebook_mode, plot, iplot\n",
    "init_notebook_mode(connected=True)\n",
    "from chartsHelper import *\n",
    "ch = chartsHelper()\n",
    "ch.calculate_attendence()\n",
    "iplot(ch.create_attendence_chart())"
   ]
  },
  {
   "cell_type": "code",
   "execution_count": null,
   "metadata": {},
   "outputs": [],
   "source": []
  }
 ],
 "metadata": {
  "kernelspec": {
   "display_name": "Python 3",
   "language": "python",
   "name": "python3"
  },
  "language_info": {
   "codemirror_mode": {
    "name": "ipython",
    "version": 3
   },
   "file_extension": ".py",
   "mimetype": "text/x-python",
   "name": "python",
   "nbconvert_exporter": "python",
   "pygments_lexer": "ipython3",
   "version": "3.7.0"
  }
 },
 "nbformat": 4,
 "nbformat_minor": 1
}
