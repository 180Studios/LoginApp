{
 "cells": [
  {
   "cell_type": "code",
   "execution_count": 1,
   "metadata": {},
   "outputs": [
    {
     "data": {
      "text/html": [
       "<script>requirejs.config({paths: { 'plotly': ['https://cdn.plot.ly/plotly-latest.min']},});if(!window.Plotly) {{require(['plotly'],function(plotly) {window.Plotly=plotly;});}}</script>"
      ],
      "text/vnd.plotly.v1+html": [
       "<script>requirejs.config({paths: { 'plotly': ['https://cdn.plot.ly/plotly-latest.min']},});if(!window.Plotly) {{require(['plotly'],function(plotly) {window.Plotly=plotly;});}}</script>"
      ]
     },
     "metadata": {},
     "output_type": "display_data"
    },
    {
     "data": {
      "text/html": [
       "<script>requirejs.config({paths: { 'plotly': ['https://cdn.plot.ly/plotly-latest.min']},});if(!window.Plotly) {{require(['plotly'],function(plotly) {window.Plotly=plotly;});}}</script>"
      ],
      "text/vnd.plotly.v1+html": [
       "<script>requirejs.config({paths: { 'plotly': ['https://cdn.plot.ly/plotly-latest.min']},});if(!window.Plotly) {{require(['plotly'],function(plotly) {window.Plotly=plotly;});}}</script>"
      ]
     },
     "metadata": {},
     "output_type": "display_data"
    },
    {
     "name": "stdout",
     "output_type": "stream",
     "text": [
      "Figure({\n",
      "    'data': [{'name': 'Punchcard Members',\n",
      "              'type': 'bar',\n",
      "              'uid': 'ec8dd9ea-a716-11e8-864c-843835419da6',\n",
      "              'x': [Monday, Tuesday, Wednesday, Thursday, Friday, Saturday,\n",
      "                    Sunday],\n",
      "              'y': [0, 5, 17, 2, 0, 0, 0, 0]},\n",
      "             {'name': 'Monthly Members',\n",
      "              'type': 'bar',\n",
      "              'uid': 'ec8de0d4-a716-11e8-864c-843835419da6',\n",
      "              'x': [Monday, Tuesday, Wednesday, Thursday, Friday, Saturday,\n",
      "                    Sunday],\n",
      "              'y': [1, 4, 0, 4, 1, 0, 0, 0]},\n",
      "             {'name': 'Annual Members',\n",
      "              'type': 'bar',\n",
      "              'uid': 'ec8de1d8-a716-11e8-864c-843835419da6',\n",
      "              'x': [Monday, Tuesday, Wednesday, Thursday, Friday, Saturday,\n",
      "                    Sunday],\n",
      "              'y': [0, 0, 0, 0, 0, 0, 0, 0]},\n",
      "             {'name': 'Student Members',\n",
      "              'type': 'bar',\n",
      "              'uid': 'ec8de296-a716-11e8-864c-843835419da6',\n",
      "              'x': [Monday, Tuesday, Wednesday, Thursday, Friday, Saturday,\n",
      "                    Sunday],\n",
      "              'y': [0, 2, 0, 0, 0, 0, 0, 0]}],\n",
      "    'layout': {'barmode': 'stack'}\n",
      "})\n"
     ]
    },
    {
     "data": {
      "application/vnd.plotly.v1+json": {
       "data": [
        {
         "name": "Punchcard Members",
         "type": "bar",
         "uid": "eca2475e-a716-11e8-864c-843835419da6",
         "x": [
          "Monday",
          "Tuesday",
          "Wednesday",
          "Thursday",
          "Friday",
          "Saturday",
          "Sunday"
         ],
         "y": [
          0,
          5,
          17,
          2,
          0,
          0,
          0,
          0
         ]
        },
        {
         "name": "Monthly Members",
         "type": "bar",
         "uid": "eca24948-a716-11e8-864c-843835419da6",
         "x": [
          "Monday",
          "Tuesday",
          "Wednesday",
          "Thursday",
          "Friday",
          "Saturday",
          "Sunday"
         ],
         "y": [
          1,
          4,
          0,
          4,
          1,
          0,
          0,
          0
         ]
        },
        {
         "name": "Annual Members",
         "type": "bar",
         "uid": "eca24a42-a716-11e8-864c-843835419da6",
         "x": [
          "Monday",
          "Tuesday",
          "Wednesday",
          "Thursday",
          "Friday",
          "Saturday",
          "Sunday"
         ],
         "y": [
          0,
          0,
          0,
          0,
          0,
          0,
          0,
          0
         ]
        },
        {
         "name": "Student Members",
         "type": "bar",
         "uid": "eca24b14-a716-11e8-864c-843835419da6",
         "x": [
          "Monday",
          "Tuesday",
          "Wednesday",
          "Thursday",
          "Friday",
          "Saturday",
          "Sunday"
         ],
         "y": [
          0,
          2,
          0,
          0,
          0,
          0,
          0,
          0
         ]
        }
       ],
       "layout": {
        "barmode": "stack"
       }
      },
      "text/html": [
       "<div id=\"03f55ae0-4c9a-4a68-a4d6-262834ccd731\" style=\"height: 525px; width: 100%;\" class=\"plotly-graph-div\"></div><script type=\"text/javascript\">require([\"plotly\"], function(Plotly) { window.PLOTLYENV=window.PLOTLYENV || {};window.PLOTLYENV.BASE_URL=\"https://plot.ly\";\n",
       "        Plotly.plot(\n",
       "            '03f55ae0-4c9a-4a68-a4d6-262834ccd731',\n",
       "            [{\"name\": \"Punchcard Members\", \"x\": [\"Monday\", \"Tuesday\", \"Wednesday\", \"Thursday\", \"Friday\", \"Saturday\", \"Sunday\"], \"y\": [0, 5, 17, 2, 0, 0, 0, 0], \"type\": \"bar\", \"uid\": \"eca2475e-a716-11e8-864c-843835419da6\"}, {\"name\": \"Monthly Members\", \"x\": [\"Monday\", \"Tuesday\", \"Wednesday\", \"Thursday\", \"Friday\", \"Saturday\", \"Sunday\"], \"y\": [1, 4, 0, 4, 1, 0, 0, 0], \"type\": \"bar\", \"uid\": \"eca24948-a716-11e8-864c-843835419da6\"}, {\"name\": \"Annual Members\", \"x\": [\"Monday\", \"Tuesday\", \"Wednesday\", \"Thursday\", \"Friday\", \"Saturday\", \"Sunday\"], \"y\": [0, 0, 0, 0, 0, 0, 0, 0], \"type\": \"bar\", \"uid\": \"eca24a42-a716-11e8-864c-843835419da6\"}, {\"name\": \"Student Members\", \"x\": [\"Monday\", \"Tuesday\", \"Wednesday\", \"Thursday\", \"Friday\", \"Saturday\", \"Sunday\"], \"y\": [0, 2, 0, 0, 0, 0, 0, 0], \"type\": \"bar\", \"uid\": \"eca24b14-a716-11e8-864c-843835419da6\"}],\n",
       "            {\"barmode\": \"stack\"},\n",
       "            {\"showLink\": true, \"linkText\": \"Export to plot.ly\"}\n",
       "        ).then(function () {return Plotly.addFrames('03f55ae0-4c9a-4a68-a4d6-262834ccd731',{});}).then(function(){Plotly.animate('03f55ae0-4c9a-4a68-a4d6-262834ccd731');})\n",
       "        });</script>"
      ],
      "text/vnd.plotly.v1+html": [
       "<div id=\"03f55ae0-4c9a-4a68-a4d6-262834ccd731\" style=\"height: 525px; width: 100%;\" class=\"plotly-graph-div\"></div><script type=\"text/javascript\">require([\"plotly\"], function(Plotly) { window.PLOTLYENV=window.PLOTLYENV || {};window.PLOTLYENV.BASE_URL=\"https://plot.ly\";\n",
       "        Plotly.plot(\n",
       "            '03f55ae0-4c9a-4a68-a4d6-262834ccd731',\n",
       "            [{\"name\": \"Punchcard Members\", \"x\": [\"Monday\", \"Tuesday\", \"Wednesday\", \"Thursday\", \"Friday\", \"Saturday\", \"Sunday\"], \"y\": [0, 5, 17, 2, 0, 0, 0, 0], \"type\": \"bar\", \"uid\": \"eca2475e-a716-11e8-864c-843835419da6\"}, {\"name\": \"Monthly Members\", \"x\": [\"Monday\", \"Tuesday\", \"Wednesday\", \"Thursday\", \"Friday\", \"Saturday\", \"Sunday\"], \"y\": [1, 4, 0, 4, 1, 0, 0, 0], \"type\": \"bar\", \"uid\": \"eca24948-a716-11e8-864c-843835419da6\"}, {\"name\": \"Annual Members\", \"x\": [\"Monday\", \"Tuesday\", \"Wednesday\", \"Thursday\", \"Friday\", \"Saturday\", \"Sunday\"], \"y\": [0, 0, 0, 0, 0, 0, 0, 0], \"type\": \"bar\", \"uid\": \"eca24a42-a716-11e8-864c-843835419da6\"}, {\"name\": \"Student Members\", \"x\": [\"Monday\", \"Tuesday\", \"Wednesday\", \"Thursday\", \"Friday\", \"Saturday\", \"Sunday\"], \"y\": [0, 2, 0, 0, 0, 0, 0, 0], \"type\": \"bar\", \"uid\": \"eca24b14-a716-11e8-864c-843835419da6\"}],\n",
       "            {\"barmode\": \"stack\"},\n",
       "            {\"showLink\": true, \"linkText\": \"Export to plot.ly\"}\n",
       "        ).then(function () {return Plotly.addFrames('03f55ae0-4c9a-4a68-a4d6-262834ccd731',{});}).then(function(){Plotly.animate('03f55ae0-4c9a-4a68-a4d6-262834ccd731');})\n",
       "        });</script>"
      ]
     },
     "metadata": {},
     "output_type": "display_data"
    }
   ],
   "source": [
    "from plotly.offline import download_plotlyjs, init_notebook_mode, plot, iplot\n",
    "init_notebook_mode(connected=True)\n",
    "from chartsHelper import *\n",
    "ch = chartsHelper()\n",
    "ch.calculate_attendence()\n",
    "iplot(ch.create_attendence_chart())"
   ]
  },
  {
   "cell_type": "code",
   "execution_count": null,
   "metadata": {},
   "outputs": [],
   "source": []
  }
 ],
 "metadata": {
  "kernelspec": {
   "display_name": "Python 3",
   "language": "python",
   "name": "python3"
  },
  "language_info": {
   "codemirror_mode": {
    "name": "ipython",
    "version": 3
   },
   "file_extension": ".py",
   "mimetype": "text/x-python",
   "name": "python",
   "nbconvert_exporter": "python",
   "pygments_lexer": "ipython3",
   "version": "3.7.0"
  }
 },
 "nbformat": 4,
 "nbformat_minor": 1
}
